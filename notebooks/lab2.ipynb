{
 "cells": [
  {
   "cell_type": "markdown",
   "id": "b8d581cbeefde5df",
   "metadata": {},
   "source": [
    "**Universidad de Ingeniería  y Tecnología (UTEC)**  \n",
    "Lima, Peru\n",
    "\n",
    "# Tema de Laboratorio: Classification\n",
    "\n",
    "**Alumnos**:\n",
    "\n",
    "1. Leonardo Matías Candio Ormeño\n",
    "\n",
    "1. Jeffry Hilario Quintana\n",
    "\n",
    "1. Mauricio Alvarez Julca\n",
    "\n",
    "## Find a publicly available dataset between 3 and 10 classes, with no more than 1000000 data points, and no less than 1000 data points. You can not use MNIST, but can use derivatives (you can use datasets other than images)\n",
    "\n",
    "We chose to use the [CIFAR-10](https://www.cs.toronto.edu/~kriz/cifar.html) dataset for this project  \n",
    "\n",
    "## Define your Training Set, Your Validation Set, and Testing Set. How will you partition your data? What is the percentile split? (Example: 80% Training, 10% Validation, 10% Testing) Why did you pick this split\n",
    "\n",
    "CIFAR-10 provides 50000 specific training images and 10000 testing images. The Python package we are using separates these 2 sets of images with different access methods. We are also using 10000 images from the training set as the validation set.\n"
   ]
  },
  {
   "cell_type": "code",
   "execution_count": 29,
   "outputs": [
    {
     "data": {
      "text/plain": "<Figure size 640x480 with 1 Axes>",
      "image/png": "[encoded data removed]"
     },
     "metadata": {},
     "output_type": "display_data"
    }
   ],
   "source": [
    "import random\n",
    "\n",
    "import matplotlib.pyplot as plt\n",
    "import numpy as np\n",
    "from PIL import Image\n",
    "\n",
    "data_labels = {\n",
    "    0: \"airplane\",\n",
    "    1: \"automobile\",\n",
    "    2: \"bird\",\n",
    "    3: \"cat\",\n",
    "    4: \"deer\",\n",
    "    5: \"dog\",\n",
    "    6: \"frog\",\n",
    "    7: \"horse\",\n",
    "    8: \"ship\",\n",
    "    9: \"truck\",\n",
    "}\n",
    "\n",
    "validation_per_label = 500\n",
    "\n",
    "\n",
    "def image_sets(img_type):\n",
    "    def get_sets():\n",
    "        validation = {_label: set(np.random.permutation(np.arange(1, 5001))[:validation_per_label].flatten()) for _label\n",
    "                      in\n",
    "                      range(10)}\n",
    "        train = {_label: {_img for _img in [i for i in range(1, 5001)] if _img not in validation[_label]} for _label in\n",
    "                 range(10)}\n",
    "        test = {_label: {_img for _img in range(1, 1001)} for _label in range(10)}\n",
    "\n",
    "        _validation_set = []\n",
    "        _train_set = []\n",
    "        _test_set = []\n",
    "\n",
    "        for key, value in validation.items():\n",
    "            for number in value:\n",
    "                _validation_set.append((key, number))\n",
    "\n",
    "        for key, value in train.items():\n",
    "            for number in value:\n",
    "                _train_set.append((key, number))\n",
    "\n",
    "        for key, value in test.items():\n",
    "            for number in value:\n",
    "                _test_set.append((key, number))\n",
    "\n",
    "        random.shuffle(_validation_set)\n",
    "        random.shuffle(_train_set)\n",
    "        random.shuffle(_test_set)\n",
    "\n",
    "        return _train_set, _validation_set, _test_set\n",
    "\n",
    "    def load_img(_img_label, _img_position, _img_type):\n",
    "        data_path = \"../data\"\n",
    "        return np.array(Image.open(\n",
    "            f'{data_path}/{\"train\" if _img_type in [\"validation\", \"train\"] else \"test\"}/{data_labels[_img_label]}/{_img_position:04d}.png')), _img_label\n",
    "\n",
    "    train_set, validation_set, test_set = get_sets()\n",
    "    match img_type:\n",
    "        case \"train\":\n",
    "            for _img in train_set:\n",
    "                yield load_img(*_img, \"train\")\n",
    "        case \"test\":\n",
    "            for _img in test_set:\n",
    "                yield load_img(*_img, \"test\")\n",
    "        case \"validation\":\n",
    "            for _img in validation_set:\n",
    "                yield load_img(*_img, \"validation\")\n",
    "        case _:\n",
    "            raise ValueError(\"img_type can only be validation, train or test\")\n",
    "\n",
    "i = 0\n",
    "\n",
    "for img, label in image_sets(\"train\"):\n",
    "    plt.imshow(img)\n",
    "    i += 1\n",
    "    if i ==3:\n",
    "        break"
   ],
   "metadata": {
    "collapsed": false,
    "ExecuteTime": {
     "end_time": "2023-09-10T00:34:40.790089Z",
     "start_time": "2023-09-10T00:34:40.695646Z"
    }
   },
   "id": "1e69a1fecfbad19"
  },
  {
   "cell_type": "code",
   "execution_count": null,
   "outputs": [],
   "source": [],
   "metadata": {
    "collapsed": false
   },
   "id": "c2f8b5b1ce85de28"
  }
 ],
 "metadata": {
  "authors": [
   {
    "name": "Leonardo Matias Candio Ormeño"
   },
   {
    "name": "Mauricio Alvarez Julca"
   },
   {
    "name": "Jeffry Hilario Quintana"
   }
  ],
  "date": "September 2023",
  "kernelspec": {
   "display_name": "Python 3 (ipykernel)",
   "language": "python",
   "name": "python3"
  },
  "language_info": {
   "codemirror_mode": {
    "name": "ipython",
    "version": 3
   },
   "file_extension": ".py",
   "mimetype": "text/x-python",
   "name": "python",
   "nbconvert_exporter": "python",
   "pygments_lexer": "ipython3",
   "version": "3.11.4"
  },
  "title": "Segundo Laboratorio de Introduction to Machine Learning"
 },
 "nbformat": 4,
 "nbformat_minor": 5
}

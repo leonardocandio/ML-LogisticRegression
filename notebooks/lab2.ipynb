{
 "cells": [
  {
   "cell_type": "markdown",
   "id": "b8d581cbeefde5df",
   "metadata": {},
   "source": [
    "**Universidad de Ingeniería  y Tecnología (UTEC)**  \n",
    "Lima, Peru\n",
    "\n",
    "# Tema de Laboratorio: Classification\n",
    "\n",
    "**Alumnos**:\n",
    "\n",
    "1. Leonardo Matías Candio Ormeño\n",
    "\n",
    "1. Jeffry Hilario Quintana\n",
    "\n",
    "1. Mauricio Alvarez Julca\n",
    "\n",
    "## Find a publicly available dataset between 3 and 10 classes, with no more than 1000000 data points, and no less than 1000 data points. You can not use MNIST, but can use derivatives (you can use datasets other than images)\n",
    "\n",
    "We chose to use the [CIFAR-10](https://www.cs.toronto.edu/~kriz/cifar.html) dataset for this project  \n",
    "\n",
    "## Define your Training Set, Your Validation Set, and Testing Set. How will you partition your data? What is the percentile split? (Example: 80% Training, 10% Validation, 10% Testing) Why did you pick this split\n",
    "\n",
    "CIFAR-10 provides 50000 specific training images (5000 per class) and 10000 testing images (1000 per class). Each image has $32*32*3$ features, so we chose to reduce the complexity of the data we train our model on. The amount of classes was reduced to 3 (airplane, truck and dog). Therefore, the amount of data was also reduced to 12000 training images, 3000 validation images and 3000 testing images. This means that the split is: 66.66% Training, 16.66% Validation, 16.66% Testing.\n"
   ]
  },
  {
   "cell_type": "code",
   "execution_count": 2,
   "id": "86c1d99c2ed776c8",
   "metadata": {
    "ExecuteTime": {
     "end_time": "2023-09-13T16:35:44.438462Z",
     "start_time": "2023-09-13T16:35:44.422199Z"
    },
    "collapsed": false
   },
   "outputs": [],
   "source": [
    "import random\n",
    "\n",
    "import matplotlib.pyplot as plt\n",
    "import numpy as np\n",
    "from PIL import Image\n",
    "from sklearn.linear_model import LogisticRegression\n",
    "\n",
    "validation_per_label = 1000\n",
    "\n",
    "data_labels = {\n",
    "    0: \"airplane\",\n",
    "    1: \"truck\",\n",
    "    2: \"dog\",\n",
    "}\n"
   ]
  },
  {
   "cell_type": "code",
   "execution_count": 3,
   "id": "711debdcd8d87c7c",
   "metadata": {
    "ExecuteTime": {
     "end_time": "2023-09-13T16:35:48.924647Z",
     "start_time": "2023-09-13T16:35:45.117190Z"
    },
    "collapsed": false
   },
   "outputs": [],
   "source": [
    "def get_sets():\n",
    "    def load_img(_img_label, _img_position, _img_type):\n",
    "        data_path = \"../data\"\n",
    "        return np.array(Image.open(\n",
    "            f'{data_path}/{\"train\" if _img_type in [\"validation\", \"train\"] else \"test\"}/{data_labels[_img_label]}/{_img_position:04d}.png')).flatten()\n",
    "\n",
    "    validation = {_label: set(np.random.permutation(np.arange(1, 5001))[:validation_per_label].flatten()) for _label\n",
    "                  in range(3)}\n",
    "    train = {_label: {_img for _img in [i for i in range(1, 5001)] if _img not in validation[_label]} for _label in\n",
    "             range(3)}\n",
    "    test = {_label: {_img for _img in range(1, 1001)} for _label in range(3)}\n",
    "\n",
    "    _validation_set = []\n",
    "    _train_set = []\n",
    "    _test_set = []\n",
    "\n",
    "    for key, value in validation.items():\n",
    "        for image in value:\n",
    "            _validation_set.append((load_img(key, image, \"validation\"), key))\n",
    "\n",
    "    for key, value in train.items():\n",
    "        for image in value:\n",
    "            _train_set.append((load_img(key, image, \"train\"), key))\n",
    "\n",
    "    for key, value in test.items():\n",
    "        for image in value:\n",
    "            _test_set.append((load_img(key, image, \"test\"), key))\n",
    "\n",
    "    random.shuffle(_validation_set)\n",
    "    random.shuffle(_train_set)\n",
    "    random.shuffle(_test_set)\n",
    "\n",
    "    _train_images, _train_labels = zip(*_train_set)\n",
    "    _validation_images, _validation_labels = zip(*_validation_set)\n",
    "    _test_images, _test_labels = zip(*_test_set)\n",
    "\n",
    "    return np.asarray(_train_images), np.asarray(_train_labels), np.asarray(_validation_images), np.asarray(\n",
    "        _validation_labels), np.asarray(_test_images), np.asarray(_test_labels)\n",
    "\n",
    "\n",
    "train_images, train_labels, validation_images, validation_labels, test_images, test_labels = get_sets()"
   ]
  },
  {
   "cell_type": "markdown",
   "id": "9e35667f1fbb0ff0",
   "metadata": {
    "collapsed": false
   },
   "source": [
    "Regression without regularization"
   ]
  },
  {
   "cell_type": "code",
   "execution_count": 88,
   "id": "206550313dd054",
   "metadata": {
    "ExecuteTime": {
     "end_time": "2023-09-12T03:28:33.833703Z",
     "start_time": "2023-09-12T03:28:33.810891Z"
    },
    "collapsed": false
   },
   "outputs": [],
   "source": [
    "model = LogisticRegression(n_jobs=2, max_iter=1000, solver='saga', multi_class='multinomial')"
   ]
  },
  {
   "cell_type": "code",
   "execution_count": 89,
   "id": "c371ee707e4d46ee",
   "metadata": {
    "ExecuteTime": {
     "end_time": "2023-09-12T03:41:39.458383Z",
     "start_time": "2023-09-12T03:29:06.087965Z"
    },
    "collapsed": false
   },
   "outputs": [
    {
     "name": "stderr",
     "output_type": "stream",
     "text": [
      "/Users/leonardocandio/.conda/envs/lab2/lib/python3.11/site-packages/sklearn/linear_model/_sag.py:350: ConvergenceWarning: The max_iter was reached which means the coef_ did not converge\n",
      "  warnings.warn(\n"
     ]
    },
    {
     "data": {
      "text/html": [
       "<style>#sk-container-id-9 {color: black;}#sk-container-id-9 pre{padding: 0;}#sk-container-id-9 div.sk-toggleable {background-color: white;}#sk-container-id-9 label.sk-toggleable__label {cursor: pointer;display: block;width: 100%;margin-bottom: 0;padding: 0.3em;box-sizing: border-box;text-align: center;}#sk-container-id-9 label.sk-toggleable__label-arrow:before {content: \"▸\";float: left;margin-right: 0.25em;color: #696969;}#sk-container-id-9 label.sk-toggleable__label-arrow:hover:before {color: black;}#sk-container-id-9 div.sk-estimator:hover label.sk-toggleable__label-arrow:before {color: black;}#sk-container-id-9 div.sk-toggleable__content {max-height: 0;max-width: 0;overflow: hidden;text-align: left;background-color: #f0f8ff;}#sk-container-id-9 div.sk-toggleable__content pre {margin: 0.2em;color: black;border-radius: 0.25em;background-color: #f0f8ff;}#sk-container-id-9 input.sk-toggleable__control:checked~div.sk-toggleable__content {max-height: 200px;max-width: 100%;overflow: auto;}#sk-container-id-9 input.sk-toggleable__control:checked~label.sk-toggleable__label-arrow:before {content: \"▾\";}#sk-container-id-9 div.sk-estimator input.sk-toggleable__control:checked~label.sk-toggleable__label {background-color: #d4ebff;}#sk-container-id-9 div.sk-label input.sk-toggleable__control:checked~label.sk-toggleable__label {background-color: #d4ebff;}#sk-container-id-9 input.sk-hidden--visually {border: 0;clip: rect(1px 1px 1px 1px);clip: rect(1px, 1px, 1px, 1px);height: 1px;margin: -1px;overflow: hidden;padding: 0;position: absolute;width: 1px;}#sk-container-id-9 div.sk-estimator {font-family: monospace;background-color: #f0f8ff;border: 1px dotted black;border-radius: 0.25em;box-sizing: border-box;margin-bottom: 0.5em;}#sk-container-id-9 div.sk-estimator:hover {background-color: #d4ebff;}#sk-container-id-9 div.sk-parallel-item::after {content: \"\";width: 100%;border-bottom: 1px solid gray;flex-grow: 1;}#sk-container-id-9 div.sk-label:hover label.sk-toggleable__label {background-color: #d4ebff;}#sk-container-id-9 div.sk-serial::before {content: \"\";position: absolute;border-left: 1px solid gray;box-sizing: border-box;top: 0;bottom: 0;left: 50%;z-index: 0;}#sk-container-id-9 div.sk-serial {display: flex;flex-direction: column;align-items: center;background-color: white;padding-right: 0.2em;padding-left: 0.2em;position: relative;}#sk-container-id-9 div.sk-item {position: relative;z-index: 1;}#sk-container-id-9 div.sk-parallel {display: flex;align-items: stretch;justify-content: center;background-color: white;position: relative;}#sk-container-id-9 div.sk-item::before, #sk-container-id-9 div.sk-parallel-item::before {content: \"\";position: absolute;border-left: 1px solid gray;box-sizing: border-box;top: 0;bottom: 0;left: 50%;z-index: -1;}#sk-container-id-9 div.sk-parallel-item {display: flex;flex-direction: column;z-index: 1;position: relative;background-color: white;}#sk-container-id-9 div.sk-parallel-item:first-child::after {align-self: flex-end;width: 50%;}#sk-container-id-9 div.sk-parallel-item:last-child::after {align-self: flex-start;width: 50%;}#sk-container-id-9 div.sk-parallel-item:only-child::after {width: 0;}#sk-container-id-9 div.sk-dashed-wrapped {border: 1px dashed gray;margin: 0 0.4em 0.5em 0.4em;box-sizing: border-box;padding-bottom: 0.4em;background-color: white;}#sk-container-id-9 div.sk-label label {font-family: monospace;font-weight: bold;display: inline-block;line-height: 1.2em;}#sk-container-id-9 div.sk-label-container {text-align: center;}#sk-container-id-9 div.sk-container {/* jupyter's `normalize.less` sets `[hidden] { display: none; }` but bootstrap.min.css set `[hidden] { display: none !important; }` so we also need the `!important` here to be able to override the default hidden behavior on the sphinx rendered scikit-learn.org. See: https://github.com/scikit-learn/scikit-learn/issues/21755 */display: inline-block !important;position: relative;}#sk-container-id-9 div.sk-text-repr-fallback {display: none;}</style><div id=\"sk-container-id-9\" class=\"sk-top-container\"><div class=\"sk-text-repr-fallback\"><pre>LogisticRegression(max_iter=1000, multi_class=&#x27;multinomial&#x27;, n_jobs=2,\n",
       "                   solver=&#x27;saga&#x27;)</pre><b>In a Jupyter environment, please rerun this cell to show the HTML representation or trust the notebook. <br />On GitHub, the HTML representation is unable to render, please try loading this page with nbviewer.org.</b></div><div class=\"sk-container\" hidden><div class=\"sk-item\"><div class=\"sk-estimator sk-toggleable\"><input class=\"sk-toggleable__control sk-hidden--visually\" id=\"sk-estimator-id-9\" type=\"checkbox\" checked><label for=\"sk-estimator-id-9\" class=\"sk-toggleable__label sk-toggleable__label-arrow\">LogisticRegression</label><div class=\"sk-toggleable__content\"><pre>LogisticRegression(max_iter=1000, multi_class=&#x27;multinomial&#x27;, n_jobs=2,\n",
       "                   solver=&#x27;saga&#x27;)</pre></div></div></div></div></div>"
      ],
      "text/plain": [
       "LogisticRegression(max_iter=1000, multi_class='multinomial', n_jobs=2,\n",
       "                   solver='saga')"
      ]
     },
     "execution_count": 89,
     "metadata": {},
     "output_type": "execute_result"
    }
   ],
   "source": [
    "model.fit(train_images, train_labels)"
   ]
  },
  {
   "cell_type": "code",
   "execution_count": 90,
   "id": "1d9ff7bc46a3d375",
   "metadata": {
    "ExecuteTime": {
     "end_time": "2023-09-12T03:42:26.032595Z",
     "start_time": "2023-09-12T03:42:25.981051Z"
    },
    "collapsed": false
   },
   "outputs": [],
   "source": [
    "\n",
    "predicted_labels = model.predict(validation_images)"
   ]
  },
  {
   "cell_type": "code",
   "execution_count": 91,
   "id": "ebd8abc5a6c264f7",
   "metadata": {
    "ExecuteTime": {
     "end_time": "2023-09-12T03:42:27.189970Z",
     "start_time": "2023-09-12T03:42:27.178043Z"
    },
    "collapsed": false
   },
   "outputs": [
    {
     "data": {
      "text/plain": [
       "0.706"
      ]
     },
     "execution_count": 91,
     "metadata": {},
     "output_type": "execute_result"
    }
   ],
   "source": [
    "from sklearn.metrics import confusion_matrix, accuracy_score, ConfusionMatrixDisplay\n",
    "\n",
    "accuracy_score(validation_labels, predicted_labels)"
   ]
  },
  {
   "cell_type": "code",
   "execution_count": 92,
   "id": "262e98b5a19ce079",
   "metadata": {
    "ExecuteTime": {
     "end_time": "2023-09-12T03:42:28.411769Z",
     "start_time": "2023-09-12T03:42:28.249294Z"
    },
    "collapsed": false
   },
   "outputs": [
    {
     "data": {
      "text/plain": [
       "<sklearn.metrics._plot.confusion_matrix.ConfusionMatrixDisplay at 0x17a079450>"
      ]
     },
     "execution_count": 92,
     "metadata": {},
     "output_type": "execute_result"
    },
    {
     "data": {
      "image/png": "[encoded data removed]",
      "text/plain": [
       "<Figure size 640x480 with 2 Axes>"
      ]
     },
     "metadata": {},
     "output_type": "display_data"
    }
   ],
   "source": [
    "cm = confusion_matrix(validation_labels, predicted_labels)\n",
    "ConfusionMatrixDisplay(cm).plot()"
   ]
  },
  {
   "cell_type": "markdown",
   "id": "75c34790",
   "metadata": {},
   "source": [
    "## Hacer una regularizacion del tipo L0, L1 o L2 sobre la regresion logistica multi-clase sobre las clases previas. Re-plotear las matrices de confusion. Que ha cambiado? Las matrices de confusion se ven mejor o peor? Por que?"
   ]
  },
  {
   "cell_type": "code",
   "execution_count": 4,
   "id": "d441a31a",
   "metadata": {},
   "outputs": [],
   "source": [
    "#Model regularization L1\n",
    "model_l1 = LogisticRegression(penalty='l1',n_jobs=2, max_iter=1000, solver='saga', multi_class='multinomial')"
   ]
  },
  {
   "cell_type": "code",
   "execution_count": 6,
   "id": "218cb213",
   "metadata": {},
   "outputs": [
    {
     "name": "stderr",
     "output_type": "stream",
     "text": [
      "c:\\Users\\JEFF QUINTANA\\AppData\\Local\\Programs\\Python\\Python311\\Lib\\site-packages\\sklearn\\linear_model\\_sag.py:350: ConvergenceWarning: The max_iter was reached which means the coef_ did not converge\n",
      "  warnings.warn(\n"
     ]
    },
    {
     "data": {
      "text/html": [
       "<style>#sk-container-id-1 {color: black;}#sk-container-id-1 pre{padding: 0;}#sk-container-id-1 div.sk-toggleable {background-color: white;}#sk-container-id-1 label.sk-toggleable__label {cursor: pointer;display: block;width: 100%;margin-bottom: 0;padding: 0.3em;box-sizing: border-box;text-align: center;}#sk-container-id-1 label.sk-toggleable__label-arrow:before {content: \"▸\";float: left;margin-right: 0.25em;color: #696969;}#sk-container-id-1 label.sk-toggleable__label-arrow:hover:before {color: black;}#sk-container-id-1 div.sk-estimator:hover label.sk-toggleable__label-arrow:before {color: black;}#sk-container-id-1 div.sk-toggleable__content {max-height: 0;max-width: 0;overflow: hidden;text-align: left;background-color: #f0f8ff;}#sk-container-id-1 div.sk-toggleable__content pre {margin: 0.2em;color: black;border-radius: 0.25em;background-color: #f0f8ff;}#sk-container-id-1 input.sk-toggleable__control:checked~div.sk-toggleable__content {max-height: 200px;max-width: 100%;overflow: auto;}#sk-container-id-1 input.sk-toggleable__control:checked~label.sk-toggleable__label-arrow:before {content: \"▾\";}#sk-container-id-1 div.sk-estimator input.sk-toggleable__control:checked~label.sk-toggleable__label {background-color: #d4ebff;}#sk-container-id-1 div.sk-label input.sk-toggleable__control:checked~label.sk-toggleable__label {background-color: #d4ebff;}#sk-container-id-1 input.sk-hidden--visually {border: 0;clip: rect(1px 1px 1px 1px);clip: rect(1px, 1px, 1px, 1px);height: 1px;margin: -1px;overflow: hidden;padding: 0;position: absolute;width: 1px;}#sk-container-id-1 div.sk-estimator {font-family: monospace;background-color: #f0f8ff;border: 1px dotted black;border-radius: 0.25em;box-sizing: border-box;margin-bottom: 0.5em;}#sk-container-id-1 div.sk-estimator:hover {background-color: #d4ebff;}#sk-container-id-1 div.sk-parallel-item::after {content: \"\";width: 100%;border-bottom: 1px solid gray;flex-grow: 1;}#sk-container-id-1 div.sk-label:hover label.sk-toggleable__label {background-color: #d4ebff;}#sk-container-id-1 div.sk-serial::before {content: \"\";position: absolute;border-left: 1px solid gray;box-sizing: border-box;top: 0;bottom: 0;left: 50%;z-index: 0;}#sk-container-id-1 div.sk-serial {display: flex;flex-direction: column;align-items: center;background-color: white;padding-right: 0.2em;padding-left: 0.2em;position: relative;}#sk-container-id-1 div.sk-item {position: relative;z-index: 1;}#sk-container-id-1 div.sk-parallel {display: flex;align-items: stretch;justify-content: center;background-color: white;position: relative;}#sk-container-id-1 div.sk-item::before, #sk-container-id-1 div.sk-parallel-item::before {content: \"\";position: absolute;border-left: 1px solid gray;box-sizing: border-box;top: 0;bottom: 0;left: 50%;z-index: -1;}#sk-container-id-1 div.sk-parallel-item {display: flex;flex-direction: column;z-index: 1;position: relative;background-color: white;}#sk-container-id-1 div.sk-parallel-item:first-child::after {align-self: flex-end;width: 50%;}#sk-container-id-1 div.sk-parallel-item:last-child::after {align-self: flex-start;width: 50%;}#sk-container-id-1 div.sk-parallel-item:only-child::after {width: 0;}#sk-container-id-1 div.sk-dashed-wrapped {border: 1px dashed gray;margin: 0 0.4em 0.5em 0.4em;box-sizing: border-box;padding-bottom: 0.4em;background-color: white;}#sk-container-id-1 div.sk-label label {font-family: monospace;font-weight: bold;display: inline-block;line-height: 1.2em;}#sk-container-id-1 div.sk-label-container {text-align: center;}#sk-container-id-1 div.sk-container {/* jupyter's `normalize.less` sets `[hidden] { display: none; }` but bootstrap.min.css set `[hidden] { display: none !important; }` so we also need the `!important` here to be able to override the default hidden behavior on the sphinx rendered scikit-learn.org. See: https://github.com/scikit-learn/scikit-learn/issues/21755 */display: inline-block !important;position: relative;}#sk-container-id-1 div.sk-text-repr-fallback {display: none;}</style><div id=\"sk-container-id-1\" class=\"sk-top-container\"><div class=\"sk-text-repr-fallback\"><pre>LogisticRegression(max_iter=1000, multi_class=&#x27;multinomial&#x27;, n_jobs=2,\n",
       "                   penalty=&#x27;l1&#x27;, solver=&#x27;saga&#x27;)</pre><b>In a Jupyter environment, please rerun this cell to show the HTML representation or trust the notebook. <br />On GitHub, the HTML representation is unable to render, please try loading this page with nbviewer.org.</b></div><div class=\"sk-container\" hidden><div class=\"sk-item\"><div class=\"sk-estimator sk-toggleable\"><input class=\"sk-toggleable__control sk-hidden--visually\" id=\"sk-estimator-id-1\" type=\"checkbox\" checked><label for=\"sk-estimator-id-1\" class=\"sk-toggleable__label sk-toggleable__label-arrow\">LogisticRegression</label><div class=\"sk-toggleable__content\"><pre>LogisticRegression(max_iter=1000, multi_class=&#x27;multinomial&#x27;, n_jobs=2,\n",
       "                   penalty=&#x27;l1&#x27;, solver=&#x27;saga&#x27;)</pre></div></div></div></div></div>"
      ],
      "text/plain": [
       "LogisticRegression(max_iter=1000, multi_class='multinomial', n_jobs=2,\n",
       "                   penalty='l1', solver='saga')"
      ]
     },
     "execution_count": 6,
     "metadata": {},
     "output_type": "execute_result"
    }
   ],
   "source": [
    "#Model L1 fit\n",
    "model_l1.fit(train_images, train_labels)"
   ]
  },
  {
   "cell_type": "code",
   "execution_count": 7,
   "id": "5e91bb61",
   "metadata": {},
   "outputs": [],
   "source": [
    "#Model L1 training\n",
    "predicted_labels_l1 = model_l1.predict(validation_images)"
   ]
  },
  {
   "cell_type": "code",
   "execution_count": 8,
   "id": "303db5c8",
   "metadata": {},
   "outputs": [
    {
     "data": {
      "text/plain": [
       "0.7123333333333334"
      ]
     },
     "execution_count": 8,
     "metadata": {},
     "output_type": "execute_result"
    }
   ],
   "source": [
    "#Model Accuracy\n",
    "from sklearn.metrics import confusion_matrix, accuracy_score, ConfusionMatrixDisplay\n",
    "\n",
    "accuracy_score(validation_labels, predicted_labels_l1)"
   ]
  },
  {
   "cell_type": "code",
   "execution_count": 10,
   "id": "95314a7f",
   "metadata": {},
   "outputs": [
    {
     "data": {
      "text/plain": [
       "<sklearn.metrics._plot.confusion_matrix.ConfusionMatrixDisplay at 0x1c554b76790>"
      ]
     },
     "execution_count": 10,
     "metadata": {},
     "output_type": "execute_result"
    },
    {
     "data": {
      "image/png": "[encoded data removed]",
      "text/plain": [
       "<Figure size 640x480 with 2 Axes>"
      ]
     },
     "metadata": {},
     "output_type": "display_data"
    }
   ],
   "source": [
    "#Model Confusion Display\n",
    "cm_l1 = confusion_matrix(validation_labels, predicted_labels_l1)\n",
    "ConfusionMatrixDisplay(cm_l1).plot()"
   ]
  }
 ],
 "metadata": {
  "authors": [
   {
    "name": "Leonardo Matias Candio Ormeño"
   },
   {
    "name": "Mauricio Alvarez Julca"
   },
   {
    "name": "Jeffry Hilario Quintana"
   }
  ],
  "date": "September 2023",
  "kernelspec": {
   "display_name": "Python 3 (ipykernel)",
   "language": "python",
   "name": "python3"
  },
  "language_info": {
   "codemirror_mode": {
    "name": "ipython",
    "version": 3
   },
   "file_extension": ".py",
   "mimetype": "text/x-python",
   "name": "python",
   "nbconvert_exporter": "python",
   "pygments_lexer": "ipython3",
   "version": "3.11.5"
  },
  "title": "Segundo Laboratorio de Introduction to Machine Learning"
 },
 "nbformat": 4,
 "nbformat_minor": 5
}
